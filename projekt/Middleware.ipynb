{
 "cells": [
  {
   "cell_type": "markdown",
   "metadata": {},
   "source": [
    "1. Globale Middleware in Authentifizierung einbauen \n",
    "2. Spezifische Middleware = Policies für Routen\n",
    "\n",
    "\n"
   ]
  },
  {
   "cell_type": "code",
   "execution_count": 3,
   "metadata": {
    "vscode": {
     "languageId": "powershell"
    }
   },
   "outputs": [
    {
     "name": "stdout",
     "output_type": "stream",
     "text": [
      "COMMAND     PID   USER   FD   TYPE             DEVICE SIZE/OFF NODE NAME\n",
      "Google    26740 denise   29u  IPv6 0x807f70a4b39d43f6      0t0  TCP localhost:49244->localhost:5173 (CLOSED)\n"
     ]
    },
    {
     "name": "stderr",
     "output_type": "stream",
     "text": [
      "bash: line 2: syntax error near unexpected token `newline'\n",
      "bash: line 2: `kill -9 <PID>'\n"
     ]
    },
    {
     "ename": "CalledProcessError",
     "evalue": "Command 'b'lsof -i :5173 \\nkill -9 <PID>\\n'' returned non-zero exit status 2.",
     "output_type": "error",
     "traceback": [
      "\u001b[0;31m---------------------------------------------------------------------------\u001b[0m",
      "\u001b[0;31mCalledProcessError\u001b[0m                        Traceback (most recent call last)",
      "Cell \u001b[0;32mIn[3], line 1\u001b[0m\n\u001b[0;32m----> 1\u001b[0m \u001b[43mget_ipython\u001b[49m\u001b[43m(\u001b[49m\u001b[43m)\u001b[49m\u001b[38;5;241;43m.\u001b[39;49m\u001b[43mrun_cell_magic\u001b[49m\u001b[43m(\u001b[49m\u001b[38;5;124;43m'\u001b[39;49m\u001b[38;5;124;43mbash\u001b[39;49m\u001b[38;5;124;43m'\u001b[39;49m\u001b[43m,\u001b[49m\u001b[43m \u001b[49m\u001b[38;5;124;43m'\u001b[39;49m\u001b[38;5;124;43m'\u001b[39;49m\u001b[43m,\u001b[49m\u001b[43m \u001b[49m\u001b[38;5;124;43m'\u001b[39;49m\u001b[38;5;124;43mlsof -i :5173 \u001b[39;49m\u001b[38;5;130;43;01m\\n\u001b[39;49;00m\u001b[38;5;124;43mkill -9 <PID>\u001b[39;49m\u001b[38;5;130;43;01m\\n\u001b[39;49;00m\u001b[38;5;124;43m'\u001b[39;49m\u001b[43m)\u001b[49m\n",
      "File \u001b[0;32m~/miniforge3/lib/python3.10/site-packages/IPython/core/interactiveshell.py:2541\u001b[0m, in \u001b[0;36mInteractiveShell.run_cell_magic\u001b[0;34m(self, magic_name, line, cell)\u001b[0m\n\u001b[1;32m   2539\u001b[0m \u001b[38;5;28;01mwith\u001b[39;00m \u001b[38;5;28mself\u001b[39m\u001b[38;5;241m.\u001b[39mbuiltin_trap:\n\u001b[1;32m   2540\u001b[0m     args \u001b[38;5;241m=\u001b[39m (magic_arg_s, cell)\n\u001b[0;32m-> 2541\u001b[0m     result \u001b[38;5;241m=\u001b[39m \u001b[43mfn\u001b[49m\u001b[43m(\u001b[49m\u001b[38;5;241;43m*\u001b[39;49m\u001b[43margs\u001b[49m\u001b[43m,\u001b[49m\u001b[43m \u001b[49m\u001b[38;5;241;43m*\u001b[39;49m\u001b[38;5;241;43m*\u001b[39;49m\u001b[43mkwargs\u001b[49m\u001b[43m)\u001b[49m\n\u001b[1;32m   2543\u001b[0m \u001b[38;5;66;03m# The code below prevents the output from being displayed\u001b[39;00m\n\u001b[1;32m   2544\u001b[0m \u001b[38;5;66;03m# when using magics with decorator @output_can_be_silenced\u001b[39;00m\n\u001b[1;32m   2545\u001b[0m \u001b[38;5;66;03m# when the last Python token in the expression is a ';'.\u001b[39;00m\n\u001b[1;32m   2546\u001b[0m \u001b[38;5;28;01mif\u001b[39;00m \u001b[38;5;28mgetattr\u001b[39m(fn, magic\u001b[38;5;241m.\u001b[39mMAGIC_OUTPUT_CAN_BE_SILENCED, \u001b[38;5;28;01mFalse\u001b[39;00m):\n",
      "File \u001b[0;32m~/miniforge3/lib/python3.10/site-packages/IPython/core/magics/script.py:155\u001b[0m, in \u001b[0;36mScriptMagics._make_script_magic.<locals>.named_script_magic\u001b[0;34m(line, cell)\u001b[0m\n\u001b[1;32m    153\u001b[0m \u001b[38;5;28;01melse\u001b[39;00m:\n\u001b[1;32m    154\u001b[0m     line \u001b[38;5;241m=\u001b[39m script\n\u001b[0;32m--> 155\u001b[0m \u001b[38;5;28;01mreturn\u001b[39;00m \u001b[38;5;28;43mself\u001b[39;49m\u001b[38;5;241;43m.\u001b[39;49m\u001b[43mshebang\u001b[49m\u001b[43m(\u001b[49m\u001b[43mline\u001b[49m\u001b[43m,\u001b[49m\u001b[43m \u001b[49m\u001b[43mcell\u001b[49m\u001b[43m)\u001b[49m\n",
      "File \u001b[0;32m~/miniforge3/lib/python3.10/site-packages/IPython/core/magics/script.py:315\u001b[0m, in \u001b[0;36mScriptMagics.shebang\u001b[0;34m(self, line, cell)\u001b[0m\n\u001b[1;32m    310\u001b[0m \u001b[38;5;28;01mif\u001b[39;00m args\u001b[38;5;241m.\u001b[39mraise_error \u001b[38;5;129;01mand\u001b[39;00m p\u001b[38;5;241m.\u001b[39mreturncode \u001b[38;5;241m!=\u001b[39m \u001b[38;5;241m0\u001b[39m:\n\u001b[1;32m    311\u001b[0m     \u001b[38;5;66;03m# If we get here and p.returncode is still None, we must have\u001b[39;00m\n\u001b[1;32m    312\u001b[0m     \u001b[38;5;66;03m# killed it but not yet seen its return code. We don't wait for it,\u001b[39;00m\n\u001b[1;32m    313\u001b[0m     \u001b[38;5;66;03m# in case it's stuck in uninterruptible sleep. -9 = SIGKILL\u001b[39;00m\n\u001b[1;32m    314\u001b[0m     rc \u001b[38;5;241m=\u001b[39m p\u001b[38;5;241m.\u001b[39mreturncode \u001b[38;5;129;01mor\u001b[39;00m \u001b[38;5;241m-\u001b[39m\u001b[38;5;241m9\u001b[39m\n\u001b[0;32m--> 315\u001b[0m     \u001b[38;5;28;01mraise\u001b[39;00m CalledProcessError(rc, cell)\n",
      "\u001b[0;31mCalledProcessError\u001b[0m: Command 'b'lsof -i :5173 \\nkill -9 <PID>\\n'' returned non-zero exit status 2."
     ]
    }
   ],
   "source": [
    "%%bash\n",
    "lsof -i :5173 \n",
    "\n",
    "kill -9 <PID>"
   ]
  },
  {
   "cell_type": "markdown",
   "metadata": {},
   "source": [
    "#### Middleware in Strapi\n",
    "#### Was ist Middleware?\n",
    "Middleware ist eine Funktion, die zwischen einer eingehenden HTTP-Anfrage und der endgültigen Verarbeitung dieser Anfrage durch den Controller oder die Route steht. Sie kann verwendet werden, um allgemeine Aufgaben wie Authentifizierung, Logging, Fehlerbehandlung und mehr durchzuführen.\n",
    "\n",
    "##### Arten von Middleware\n",
    "Usage​\n",
    "\n",
    "Middlewares are called different ways depending on their scope:\n",
    "\n",
    "use global::middleware-name for application-level middlewares\n",
    "use api::api-name.middleware-name for API-level middlewares\n",
    "use plugin::plugin-name.middleware-name for plugin middlewares\n",
    "\n",
    "###### Globale Middleware:\n",
    "\n",
    "* Wird auf alle Anfragen angewendet.\n",
    "* Wird in der globalen Middleware-Konfiguration registriert.\n",
    "Beispiele: Authentifizierung, allgemeine Sicherheitsmaßnahmen, Logging.\n",
    "\n",
    "###### Spezifische Middleware:\n",
    "\n",
    "* Kann für bestimmte Routen oder Content Types konfiguriert werden.\n",
    "* Bietet granularere Kontrolle.\n",
    "Beispiele: Spezifische Validierungen, Ratenbegrenzung für bestimmte Endpunkte.\n",
    "\n",
    "##### Einsatz von Middleware\n",
    "\n",
    "###### Globale Authentifizierung:\n",
    "* Eine globale Middleware, die sicherstellt, dass alle Anfragen authentifiziert sind."
   ]
  },
  {
   "cell_type": "code",
   "execution_count": 2,
   "metadata": {
    "vscode": {
     "languageId": "javascript"
    }
   },
   "outputs": [
    {
     "ename": "SyntaxError",
     "evalue": "unterminated string literal (detected at line 6) (1026841611.py, line 6)",
     "output_type": "error",
     "traceback": [
      "\u001b[0;36m  Cell \u001b[0;32mIn[2], line 6\u001b[0;36m\u001b[0m\n\u001b[0;31m    ctx.unauthorized(`You're not logged in!`);\u001b[0m\n\u001b[0m                         ^\u001b[0m\n\u001b[0;31mSyntaxError\u001b[0m\u001b[0;31m:\u001b[0m unterminated string literal (detected at line 6)\n"
     ]
    }
   ],
   "source": [
    "// ./middlewares/auth.js\n",
    "module.exports = async (ctx, next) => {\n",
    "    if (ctx.state.user) {\n",
    "      await next();\n",
    "    } else {\n",
    "      ctx.unauthorized(`You're not logged in!`);\n",
    "    }\n",
    "  };\n",
    "  \n",
    "  // ./config/middleware.js\n",
    "  module.exports = {\n",
    "    settings: {\n",
    "      auth: {\n",
    "        enabled: true,\n",
    "      },\n",
    "    },\n",
    "  };"
   ]
  },
  {
   "cell_type": "markdown",
   "metadata": {},
   "source": [
    "###### Spezifische Middleware:\n",
    "* Middleware, die nur auf bestimmte Routen angewendet wird."
   ]
  },
  {
   "cell_type": "code",
   "execution_count": null,
   "metadata": {
    "vscode": {
     "languageId": "javascript"
    }
   },
   "outputs": [
    {
     "ename": "",
     "evalue": "",
     "output_type": "error",
     "traceback": [
      "\u001b[1;31mDas Ausführen von Zellen mit \"Python 3.12.2\" erfordert das Paket ipykernel.\n",
      "\u001b[1;31mFühren Sie den folgenden Befehl aus, um „ipykernel“ in der Python-Umgebung zu installieren. \n",
      "\u001b[1;31mBefehl: '/usr/local/bin/python3 -m pip install ipykernel -U --user --force-reinstall'"
     ]
    }
   ],
   "source": [
    "// ./middlewares/rateLimiter.js\n",
    "module.exports = async (ctx, next) => {\n",
    "    // Implementierung der Ratenbegrenzung\n",
    "    await next();\n",
    "  };\n",
    "  \n",
    "  // Registrierung in der Routing-Konfiguration\n",
    "  {\n",
    "    \"routes\": [\n",
    "      {\n",
    "        \"method\": \"GET\",\n",
    "        \"path\": \"/notes\",\n",
    "        \"handler\": \"note.find\",\n",
    "        \"config\": {\n",
    "          \"policies\": [\"global::auth\", \"middlewares::rateLimiter\"]\n",
    "        }\n",
    "      }\n",
    "    ]\n",
    "  }"
   ]
  },
  {
   "cell_type": "markdown",
   "metadata": {},
   "source": [
    "#### Policies in Strapi\n",
    "#### Was sind Policies?\n",
    "Policies sind Funktionen, die speziell für die Zugangskontrolle und Berechtigungen konzipiert sind. Sie werden verwendet, um zu bestimmen, ob eine Anfrage autorisiert ist, bevor sie an den Controller weitergeleitet wird. Policies sind flexibler und granularer als globale Middleware und können auf einzelne Routen oder Content Types angewendet werden.\n",
    "\n",
    "Policies are functions that execute specific logic on each request before it reaches the controller. They are mostly used for securing business logic.\n",
    "##### Einsatz von Policies\n",
    "###### Benutzerdefinierte Policy:\n",
    "Eine Policy, die überprüft, ob ein Benutzer bestimmte Berechtigungen hat."
   ]
  },
  {
   "cell_type": "code",
   "execution_count": null,
   "metadata": {
    "vscode": {
     "languageId": "javascript"
    }
   },
   "outputs": [
    {
     "ename": "",
     "evalue": "",
     "output_type": "error",
     "traceback": [
      "\u001b[1;31mDas Ausführen von Zellen mit \"Python 3.12.2\" erfordert das Paket ipykernel.\n",
      "\u001b[1;31mFühren Sie den folgenden Befehl aus, um „ipykernel“ in der Python-Umgebung zu installieren. \n",
      "\u001b[1;31mBefehl: '/usr/local/bin/python3 -m pip install ipykernel -U --user --force-reinstall'"
     ]
    }
   ],
   "source": [
    "// ./api/note/policies/isAzubiPolicy.js\n",
    "module.exports = async (ctx, next) => {\n",
    "    const user = ctx.state.user;\n",
    "  \n",
    "    if (!user) {\n",
    "      return ctx.unauthorized(`You're not logged in!`);\n",
    "    }\n",
    "  \n",
    "    if (user.isAzubi) {\n",
    "      // Azubis sehen nur ihre eigenen Noten\n",
    "      ctx.query.user = user.id;\n",
    "    } else {\n",
    "      // Andere Benutzer sehen alle Noten von Azubis\n",
    "      const azubiUsers = await strapi.query('user', 'users-permissions').find({ isAzubi: true });\n",
    "      const azubiUserIds = azubiUsers.map(azubi => azubi.id);\n",
    "      ctx.query.user_in = azubiUserIds;\n",
    "    }\n",
    "  \n",
    "    await next();\n",
    "  };"
   ]
  },
  {
   "cell_type": "code",
   "execution_count": null,
   "metadata": {
    "vscode": {
     "languageId": "javascript"
    }
   },
   "outputs": [
    {
     "ename": "",
     "evalue": "",
     "output_type": "error",
     "traceback": [
      "\u001b[1;31mDas Ausführen von Zellen mit \"Python 3.12.2\" erfordert das Paket ipykernel.\n",
      "\u001b[1;31mFühren Sie den folgenden Befehl aus, um „ipykernel“ in der Python-Umgebung zu installieren. \n",
      "\u001b[1;31mBefehl: '/usr/local/bin/python3 -m pip install ipykernel -U --user --force-reinstall'"
     ]
    }
   ],
   "source": [
    "// Registrierung in der Routing-Konfiguration\n",
    "{\n",
    "    \"routes\": [\n",
    "      {\n",
    "        \"method\": \"GET\",\n",
    "        \"path\": \"/notes\",\n",
    "        \"handler\": \"note.find\",\n",
    "        \"config\": {\n",
    "          \"policies\": [\"global::auth\", \"api::note.isAzubiPolicy\"]\n",
    "        }\n",
    "      }\n",
    "    ]\n",
    "  }"
   ]
  },
  {
   "cell_type": "markdown",
   "metadata": {},
   "source": [
    "### Gegenüberstellung: Middleware vs. Policies\n",
    "\n",
    "### Fazit\n",
    "Middleware ist ideal für allgemeine, wiederkehrende Aufgaben, die auf alle oder eine breite Palette von Anfragen angewendet werden müssen.\n",
    "Policies sind spezialisierter und eignen sich hervorragend für feingranulare Zugangskontrollen und Berechtigungen auf Ebene einzelner Routen oder Content Types.\n",
    "Durch die Kombination beider Mechanismen kannst du eine robuste und skalierbare Sicherheits- und Zugriffskontrollstruktur für deine Strapi-Anwendung aufbauen. Globale Middleware sorgt für grundlegende Sicherheit und Authentifizierung, während Policies für spezifische Zugriffskontrollen und Berechtigungsprüfungen sorgen."
   ]
  },
  {
   "cell_type": "code",
   "execution_count": 8,
   "metadata": {},
   "outputs": [
    {
     "data": {
      "text/html": [
       "<div>\n",
       "    <img src=\"/Users/denise/sdv/offspring/projekt/image.png\" width=\"600\">\n",
       "    </div>\n"
      ],
      "text/plain": [
       "<IPython.core.display.HTML object>"
      ]
     },
     "metadata": {},
     "output_type": "display_data"
    }
   ],
   "source": [
    "%%html<div><img src=\"/Users/denise/sdv/offspring/projekt/image.png\" width=\"600\"> </div>"
   ]
  },
  {
   "cell_type": "code",
   "execution_count": null,
   "metadata": {
    "vscode": {
     "languageId": "html"
    }
   },
   "outputs": [],
   "source": []
  }
 ],
 "metadata": {
  "kernelspec": {
   "display_name": "py311",
   "language": "python",
   "name": "py311"
  },
  "language_info": {
   "codemirror_mode": {
    "name": "ipython",
    "version": 3
   },
   "file_extension": ".py",
   "mimetype": "text/x-python",
   "name": "python",
   "nbconvert_exporter": "python",
   "pygments_lexer": "ipython3",
   "version": "3.10.14"
  }
 },
 "nbformat": 4,
 "nbformat_minor": 2
}
