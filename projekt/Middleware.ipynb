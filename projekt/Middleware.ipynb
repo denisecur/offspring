{
 "cells": [
  {
   "cell_type": "markdown",
   "metadata": {},
   "source": [
    "1. Globale Middleware in Authentifizierung einbauen \n",
    "2. Spezifische Middleware = Policies für Routen\n",
    "\n",
    "\n"
   ]
  },
  {
   "cell_type": "markdown",
   "metadata": {},
   "source": [
    "#### Middleware in Strapi\n",
    "#### Was ist Middleware?\n",
    "Middleware ist eine Funktion, die zwischen einer eingehenden HTTP-Anfrage und der endgültigen Verarbeitung dieser Anfrage durch den Controller oder die Route steht. Sie kann verwendet werden, um allgemeine Aufgaben wie Authentifizierung, Logging, Fehlerbehandlung und mehr durchzuführen.\n",
    "\n",
    "##### Arten von Middleware\n",
    "###### Globale Middleware:\n",
    "\n",
    "* Wird auf alle Anfragen angewendet.\n",
    "* Wird in der globalen Middleware-Konfiguration registriert.\n",
    "Beispiele: Authentifizierung, allgemeine Sicherheitsmaßnahmen, Logging.\n",
    "\n",
    "###### Spezifische Middleware:\n",
    "\n",
    "* Kann für bestimmte Routen oder Content Types konfiguriert werden.\n",
    "* Bietet granularere Kontrolle.\n",
    "Beispiele: Spezifische Validierungen, Ratenbegrenzung für bestimmte Endpunkte.\n",
    "\n",
    "##### Einsatz von Middleware\n",
    "\n",
    "###### Globale Authentifizierung:\n",
    "* Eine globale Middleware, die sicherstellt, dass alle Anfragen authentifiziert sind."
   ]
  },
  {
   "cell_type": "code",
   "execution_count": 2,
   "metadata": {
    "vscode": {
     "languageId": "javascript"
    }
   },
   "outputs": [
    {
     "ename": "SyntaxError",
     "evalue": "unterminated string literal (detected at line 6) (1026841611.py, line 6)",
     "output_type": "error",
     "traceback": [
      "\u001b[0;36m  Cell \u001b[0;32mIn[2], line 6\u001b[0;36m\u001b[0m\n\u001b[0;31m    ctx.unauthorized(`You're not logged in!`);\u001b[0m\n\u001b[0m                         ^\u001b[0m\n\u001b[0;31mSyntaxError\u001b[0m\u001b[0;31m:\u001b[0m unterminated string literal (detected at line 6)\n"
     ]
    }
   ],
   "source": [
    "// ./middlewares/auth.js\n",
    "module.exports = async (ctx, next) => {\n",
    "    if (ctx.state.user) {\n",
    "      await next();\n",
    "    } else {\n",
    "      ctx.unauthorized(`You're not logged in!`);\n",
    "    }\n",
    "  };\n",
    "  \n",
    "  // ./config/middleware.js\n",
    "  module.exports = {\n",
    "    settings: {\n",
    "      auth: {\n",
    "        enabled: true,\n",
    "      },\n",
    "    },\n",
    "  };"
   ]
  },
  {
   "cell_type": "markdown",
   "metadata": {},
   "source": [
    "###### Spezifische Middleware:\n",
    "* Middleware, die nur auf bestimmte Routen angewendet wird."
   ]
  },
  {
   "cell_type": "code",
   "execution_count": null,
   "metadata": {
    "vscode": {
     "languageId": "javascript"
    }
   },
   "outputs": [
    {
     "ename": "",
     "evalue": "",
     "output_type": "error",
     "traceback": [
      "\u001b[1;31mDas Ausführen von Zellen mit \"Python 3.12.2\" erfordert das Paket ipykernel.\n",
      "\u001b[1;31mFühren Sie den folgenden Befehl aus, um „ipykernel“ in der Python-Umgebung zu installieren. \n",
      "\u001b[1;31mBefehl: '/usr/local/bin/python3 -m pip install ipykernel -U --user --force-reinstall'"
     ]
    }
   ],
   "source": [
    "// ./middlewares/rateLimiter.js\n",
    "module.exports = async (ctx, next) => {\n",
    "    // Implementierung der Ratenbegrenzung\n",
    "    await next();\n",
    "  };\n",
    "  \n",
    "  // Registrierung in der Routing-Konfiguration\n",
    "  {\n",
    "    \"routes\": [\n",
    "      {\n",
    "        \"method\": \"GET\",\n",
    "        \"path\": \"/notes\",\n",
    "        \"handler\": \"note.find\",\n",
    "        \"config\": {\n",
    "          \"policies\": [\"global::auth\", \"middlewares::rateLimiter\"]\n",
    "        }\n",
    "      }\n",
    "    ]\n",
    "  }"
   ]
  },
  {
   "cell_type": "markdown",
   "metadata": {},
   "source": [
    "#### Policies in Strapi\n",
    "#### Was sind Policies?\n",
    "Policies sind Funktionen, die speziell für die Zugangskontrolle und Berechtigungen konzipiert sind. Sie werden verwendet, um zu bestimmen, ob eine Anfrage autorisiert ist, bevor sie an den Controller weitergeleitet wird. Policies sind flexibler und granularer als globale Middleware und können auf einzelne Routen oder Content Types angewendet werden.\n",
    "\n",
    "##### Einsatz von Policies\n",
    "###### Benutzerdefinierte Policy:\n",
    "Eine Policy, die überprüft, ob ein Benutzer bestimmte Berechtigungen hat."
   ]
  },
  {
   "cell_type": "code",
   "execution_count": null,
   "metadata": {
    "vscode": {
     "languageId": "javascript"
    }
   },
   "outputs": [
    {
     "ename": "",
     "evalue": "",
     "output_type": "error",
     "traceback": [
      "\u001b[1;31mDas Ausführen von Zellen mit \"Python 3.12.2\" erfordert das Paket ipykernel.\n",
      "\u001b[1;31mFühren Sie den folgenden Befehl aus, um „ipykernel“ in der Python-Umgebung zu installieren. \n",
      "\u001b[1;31mBefehl: '/usr/local/bin/python3 -m pip install ipykernel -U --user --force-reinstall'"
     ]
    }
   ],
   "source": [
    "// ./api/note/policies/isAzubiPolicy.js\n",
    "module.exports = async (ctx, next) => {\n",
    "    const user = ctx.state.user;\n",
    "  \n",
    "    if (!user) {\n",
    "      return ctx.unauthorized(`You're not logged in!`);\n",
    "    }\n",
    "  \n",
    "    if (user.isAzubi) {\n",
    "      // Azubis sehen nur ihre eigenen Noten\n",
    "      ctx.query.user = user.id;\n",
    "    } else {\n",
    "      // Andere Benutzer sehen alle Noten von Azubis\n",
    "      const azubiUsers = await strapi.query('user', 'users-permissions').find({ isAzubi: true });\n",
    "      const azubiUserIds = azubiUsers.map(azubi => azubi.id);\n",
    "      ctx.query.user_in = azubiUserIds;\n",
    "    }\n",
    "  \n",
    "    await next();\n",
    "  };"
   ]
  },
  {
   "cell_type": "code",
   "execution_count": null,
   "metadata": {
    "vscode": {
     "languageId": "javascript"
    }
   },
   "outputs": [
    {
     "ename": "",
     "evalue": "",
     "output_type": "error",
     "traceback": [
      "\u001b[1;31mDas Ausführen von Zellen mit \"Python 3.12.2\" erfordert das Paket ipykernel.\n",
      "\u001b[1;31mFühren Sie den folgenden Befehl aus, um „ipykernel“ in der Python-Umgebung zu installieren. \n",
      "\u001b[1;31mBefehl: '/usr/local/bin/python3 -m pip install ipykernel -U --user --force-reinstall'"
     ]
    }
   ],
   "source": [
    "// Registrierung in der Routing-Konfiguration\n",
    "{\n",
    "    \"routes\": [\n",
    "      {\n",
    "        \"method\": \"GET\",\n",
    "        \"path\": \"/notes\",\n",
    "        \"handler\": \"note.find\",\n",
    "        \"config\": {\n",
    "          \"policies\": [\"global::auth\", \"api::note.isAzubiPolicy\"]\n",
    "        }\n",
    "      }\n",
    "    ]\n",
    "  }"
   ]
  },
  {
   "cell_type": "markdown",
   "metadata": {},
   "source": [
    "### Gegenüberstellung: Middleware vs. Policies\n",
    "\n",
    "### Fazit\n",
    "Middleware ist ideal für allgemeine, wiederkehrende Aufgaben, die auf alle oder eine breite Palette von Anfragen angewendet werden müssen.\n",
    "Policies sind spezialisierter und eignen sich hervorragend für feingranulare Zugangskontrollen und Berechtigungen auf Ebene einzelner Routen oder Content Types.\n",
    "Durch die Kombination beider Mechanismen kannst du eine robuste und skalierbare Sicherheits- und Zugriffskontrollstruktur für deine Strapi-Anwendung aufbauen. Globale Middleware sorgt für grundlegende Sicherheit und Authentifizierung, während Policies für spezifische Zugriffskontrollen und Berechtigungsprüfungen sorgen."
   ]
  },
  {
   "cell_type": "code",
   "execution_count": 8,
   "metadata": {},
   "outputs": [
    {
     "data": {
      "text/html": [
       "<div>\n",
       "    <img src=\"/Users/denise/sdv/offspring/projekt/image.png\" width=\"600\">\n",
       "    </div>\n"
      ],
      "text/plain": [
       "<IPython.core.display.HTML object>"
      ]
     },
     "metadata": {},
     "output_type": "display_data"
    }
   ],
   "source": [
    "%%html<div><img src=\"/Users/denise/sdv/offspring/projekt/image.png\" width=\"600\"> </div>"
   ]
  },
  {
   "cell_type": "code",
   "execution_count": null,
   "metadata": {
    "vscode": {
     "languageId": "html"
    }
   },
   "outputs": [],
   "source": []
  }
 ],
 "metadata": {
  "kernelspec": {
   "display_name": "py311",
   "language": "python",
   "name": "py311"
  },
  "language_info": {
   "codemirror_mode": {
    "name": "ipython",
    "version": 3
   },
   "file_extension": ".py",
   "mimetype": "text/x-python",
   "name": "python",
   "nbconvert_exporter": "python",
   "pygments_lexer": "ipython3",
   "version": "3.10.14"
  }
 },
 "nbformat": 4,
 "nbformat_minor": 2
}
