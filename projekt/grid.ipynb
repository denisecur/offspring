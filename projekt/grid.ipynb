{
 "cells": [
  {
   "cell_type": "code",
   "execution_count": null,
   "metadata": {},
   "outputs": [],
   "source": []
  },
  {
   "cell_type": "markdown",
   "metadata": {},
   "source": [
    "- Fluid Grids:\n",
    "    - benutzen Spalten (columns) für Skalierung und Größe des Inhalts\n",
    "\n",
    "- Basic Grids:\n",
    "    - Spaltenbreiten sind Integer zwischen 1 und 12 \n",
    "        - Ein Wert, der an einen bestimmten breakpoint übergeben wird, gilt auch für alle größeren breakpoints (wenn keine Werte explizit definiert sind). \n",
    "        - Beispielsweise wird mit xs={12} die Größe einer Komponente so angepasst, dass sie unabhängig von der Größe des Ansichtsfensters die volle Breite des übergeordneten Containers einnimmt.\n"
   ]
  },
  {
   "cell_type": "markdown",
   "metadata": {},
   "source": []
  },
  {
   "cell_type": "markdown",
   "metadata": {},
   "source": [
    "### BREAKPOINTS: xs, md, ...\n",
    "\n",
    "##### xs=12 heißt, wenn die Anzeige klein ist, nutze alle 12 Spalten = 100 % -> eine Spalte.\n",
    "##### md=6 heißt, wenn die Anzeige medium ist, nutze 6 von 12 = die Hälfte der möglichen Spalten -> zwei Spalten\n",
    "\n",
    "#### am besten jeweils xs, sm und md definieren, sonst springt es zu früh auf md\n",
    "\n",
    "#### Default breakpoints\n",
    "\n",
    "Each breakpoint (a key) matches with a fixed screen width (a value):\n",
    "\n",
    "xs, extra-small: 0px\n",
    "sm, small: 600px\n",
    "md, medium: 900px\n",
    "lg, large: 1200px\n",
    "xl, extra-large: 1536px\n",
    "\n",
    "These values can be customized.\n",
    "([custim breakpoints](https://mui.com/material-ui/customization/breakpoints/#custom-breakpoints))"
   ]
  },
  {
   "cell_type": "markdown",
   "metadata": {},
   "source": [
    "### Abstand zwischen den Cols mit *spacing*"
   ]
  },
  {
   "cell_type": "code",
   "execution_count": null,
   "metadata": {
    "vscode": {
     "languageId": "html"
    }
   },
   "outputs": [],
   "source": [
    "<Grid container spacing={0.5}>"
   ]
  },
  {
   "cell_type": "markdown",
   "metadata": {},
   "source": [
    "Row & column spacing\n",
    "\n",
    "The rowSpacing and columnSpacing props allow for specifying the row and column gaps independently. It's similar to the row-gap and column-gap properties of CSS Grid."
   ]
  },
  {
   "cell_type": "code",
   "execution_count": null,
   "metadata": {
    "vscode": {
     "languageId": "html"
    }
   },
   "outputs": [],
   "source": [
    "\n",
    "    <Box sx={{ width: '100%' }}>\n",
    "      <Grid container rowSpacing={1} columnSpacing={{ xs: 1, sm: 2, md: 3 }}>\n",
    "        <Grid item xs={6}>\n",
    "          <Item>1</Item>\n",
    "        </Grid>\n",
    "        <Grid item xs={6}>\n",
    "          <Item>2</Item>\n",
    "        </Grid>\n",
    "        <Grid item xs={6}>\n",
    "          <Item>3</Item>\n",
    "        </Grid>\n",
    "        <Grid item xs={6}>\n",
    "          <Item>4</Item>\n",
    "        </Grid>\n",
    "      </Grid>\n",
    "    </Box>"
   ]
  },
  {
   "cell_type": "code",
   "execution_count": null,
   "metadata": {
    "vscode": {
     "languageId": "html"
    }
   },
   "outputs": [],
   "source": []
  }
 ],
 "metadata": {
  "language_info": {
   "name": "python"
  }
 },
 "nbformat": 4,
 "nbformat_minor": 2
}
